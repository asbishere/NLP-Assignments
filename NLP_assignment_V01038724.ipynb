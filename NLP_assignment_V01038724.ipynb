{
 "cells": [
  {
   "cell_type": "code",
   "execution_count": 73,
   "id": "a1e0f226",
   "metadata": {},
   "outputs": [],
   "source": [
    "import tweepy\n",
    "import webbrowser\n",
    "import pandas as pd"
   ]
  },
  {
   "cell_type": "code",
   "execution_count": 74,
   "id": "15e00a4e",
   "metadata": {},
   "outputs": [],
   "source": [
    "api_key = \"31DnntLrMnkNPA9q2keHPNFbB\"\n",
    "api_secret = \"9lnFWyCQZyZOQA0HzkMg4WhM1J5ptrizR4r9kIy5hhCawiPx2u\""
   ]
  },
  {
   "cell_type": "code",
   "execution_count": 75,
   "id": "f0b31f82",
   "metadata": {},
   "outputs": [],
   "source": [
    "#Because we do not have any running app on the server,\n",
    "#twitter has implemented this feature to authenticate the user login\n",
    "uri_callback = 'oob'"
   ]
  },
  {
   "cell_type": "code",
   "execution_count": 76,
   "id": "9e038570",
   "metadata": {},
   "outputs": [],
   "source": [
    "#Atuthentication and sending the url to redirect\n",
    "auth = tweepy.OAuthHandler(api_key,api_secret,uri_callback)\n",
    "redirect_url = auth.get_authorization_url()"
   ]
  },
  {
   "cell_type": "code",
   "execution_count": 77,
   "id": "1e005b04",
   "metadata": {},
   "outputs": [
    {
     "data": {
      "text/plain": [
       "True"
      ]
     },
     "execution_count": 77,
     "metadata": {},
     "output_type": "execute_result"
    }
   ],
   "source": [
    "# a webbrowser library to open urls\n",
    "webbrowser.open(redirect_url)"
   ]
  },
  {
   "cell_type": "code",
   "execution_count": 78,
   "id": "78b6c6d2",
   "metadata": {},
   "outputs": [
    {
     "name": "stdout",
     "output_type": "stream",
     "text": [
      "value? 4747832\n"
     ]
    }
   ],
   "source": [
    "# copy the value shown in the new tab that opens and paste it and hit enter.\n",
    "user_pin_input = input(\"value? \")"
   ]
  },
  {
   "cell_type": "code",
   "execution_count": 87,
   "id": "0743d6f1",
   "metadata": {
    "scrolled": true
   },
   "outputs": [
    {
     "data": {
      "text/plain": [
       "('1567948872273788928-utmtNkqGNu114zDN3usVVF9sZsGbi7',\n",
       " '8Gd86esboljKJGWHgqLpJpo58tEhie6YJoJXfubhOrkFr')"
      ]
     },
     "execution_count": 87,
     "metadata": {},
     "output_type": "execute_result"
    }
   ],
   "source": [
    "# the below line is to print and verify the token and secret key\n",
    "auth.get_access_token(user_pin_input)"
   ]
  },
  {
   "cell_type": "code",
   "execution_count": 91,
   "id": "b9d81127",
   "metadata": {
    "scrolled": true
   },
   "outputs": [],
   "source": [
    "# This line is to work with twitter api\n",
    "api = tweepy.API(auth)\n",
    "\n"
   ]
  },
  {
   "cell_type": "code",
   "execution_count": 92,
   "id": "b16062b8",
   "metadata": {},
   "outputs": [
    {
     "name": "stdout",
     "output_type": "stream",
     "text": [
      "              User                                               Data\n",
      "0      hazeraburke  @VCU_Hoops @VCURamNation https://t.co/dcVt5mq7...\n",
      "1       CombineMbb  RT @jakeweingarten: NC State’s Kevin Keatts an...\n",
      "2       winetast3r  RT @nytimes: Virginia Commonwealth University ...\n",
      "3       moughthere  A Virginia University Will Pay Hazing Victim’s...\n",
      "4        VCU_GEHLI  RT @VCU_GEHLI: The VCU Grace E. Harris Leaders...\n",
      "..             ...                                                ...\n",
      "95        AlexSdek  RT @Andrew__Slater: ⭐️⭐️⭐️⭐️ 6’9” Ladji Dembel...\n",
      "96      debbielbc1  RT @nytimes: Virginia Commonwealth University ...\n",
      "97  ultrasound_vcu  Great weekend welcoming our new fellows to the...\n",
      "98   kingliang6689  RT @nytimes: Virginia Commonwealth University ...\n",
      "99           qn906  مركز مساج سبا زيارات منزلي و فندقية\\nمختصين كف...\n",
      "\n",
      "[100 rows x 2 columns]\n"
     ]
    }
   ],
   "source": [
    "#keyword\n",
    "keyword='vcu'\n",
    "limit=100\n",
    "\n",
    "tweets = tweepy.Cursor(api.search_tweets,q=keyword,count=100,tweet_mode='extended').items(limit)\n",
    "\n",
    "columns=['User','Data']\n",
    "data=[]\n",
    "\n",
    "for tweet in tweets:\n",
    "    data.append([tweet.user.screen_name,tweet.full_text])\n",
    "    \n",
    "df=pd.DataFrame(data,columns=columns)\n",
    "    \n",
    "print(df)\n"
   ]
  },
  {
   "cell_type": "code",
   "execution_count": null,
   "id": "2de6e2a5",
   "metadata": {},
   "outputs": [],
   "source": []
  }
 ],
 "metadata": {
  "kernelspec": {
   "display_name": "Python 3 (ipykernel)",
   "language": "python",
   "name": "python3"
  },
  "language_info": {
   "codemirror_mode": {
    "name": "ipython",
    "version": 3
   },
   "file_extension": ".py",
   "mimetype": "text/x-python",
   "name": "python",
   "nbconvert_exporter": "python",
   "pygments_lexer": "ipython3",
   "version": "3.9.12"
  }
 },
 "nbformat": 4,
 "nbformat_minor": 5
}
